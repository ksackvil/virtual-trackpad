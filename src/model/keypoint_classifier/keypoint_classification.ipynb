{
  "cells": [
    {
      "cell_type": "code",
      "execution_count": 67,
      "metadata": {
        "id": "igMyGnjE9hEp"
      },
      "outputs": [],
      "source": [
        "import csv\n",
        "\n",
        "import numpy as np\n",
        "import tensorflow as tf\n",
        "from sklearn.model_selection import train_test_split\n",
        "\n",
        "RANDOM_SEED = 42"
      ]
    },
    {
      "cell_type": "markdown",
      "metadata": {
        "id": "t2HDvhIu9hEr"
      },
      "source": [
        "# Specify each path"
      ]
    },
    {
      "cell_type": "code",
      "execution_count": 68,
      "metadata": {
        "id": "9NvZP2Zn9hEy"
      },
      "outputs": [],
      "source": [
        "dataset = 'keypoint.csv'\n",
        "model_save_path = 'keypoint_classifier.hdf5'\n",
        "tflite_save_path = 'keypoint_classifier.tflite'"
      ]
    },
    {
      "cell_type": "markdown",
      "metadata": {
        "id": "s5oMH7x19hEz"
      },
      "source": [
        "# Set number of classes"
      ]
    },
    {
      "cell_type": "code",
      "execution_count": 69,
      "metadata": {
        "id": "du4kodXL9hEz"
      },
      "outputs": [],
      "source": [
        "NUM_CLASSES = 5"
      ]
    },
    {
      "cell_type": "markdown",
      "metadata": {
        "id": "XjnL0uso9hEz"
      },
      "source": [
        "# Dataset reading"
      ]
    },
    {
      "cell_type": "code",
      "execution_count": 70,
      "metadata": {
        "id": "QT5ZqtEz9hE0"
      },
      "outputs": [],
      "source": [
        "X_dataset = np.loadtxt(dataset, delimiter=',', dtype='float32', usecols=list(range(1, (21 * 2) + 1)))"
      ]
    },
    {
      "cell_type": "code",
      "execution_count": 71,
      "metadata": {
        "id": "QmoKFsp49hE0"
      },
      "outputs": [],
      "source": [
        "y_dataset = np.loadtxt(dataset, delimiter=',', dtype='int32', usecols=(0))"
      ]
    },
    {
      "cell_type": "code",
      "execution_count": 72,
      "metadata": {
        "id": "xQU7JTZ_9hE0"
      },
      "outputs": [],
      "source": [
        "X_train, X_test, y_train, y_test = train_test_split(X_dataset, y_dataset, train_size=0.75, random_state=RANDOM_SEED)"
      ]
    },
    {
      "cell_type": "markdown",
      "metadata": {
        "id": "mxK_lETT9hE0"
      },
      "source": [
        "# Model building"
      ]
    },
    {
      "cell_type": "code",
      "execution_count": 73,
      "metadata": {
        "id": "vHBmUf1t9hE1"
      },
      "outputs": [],
      "source": [
        "model = tf.keras.models.Sequential([\n",
        "    tf.keras.layers.Input((21 * 2, )),\n",
        "    tf.keras.layers.Dropout(0.2),\n",
        "    tf.keras.layers.Dense(20, activation='relu'),\n",
        "    tf.keras.layers.Dropout(0.4),\n",
        "    tf.keras.layers.Dense(10, activation='relu'),\n",
        "    tf.keras.layers.Dense(NUM_CLASSES, activation='softmax')\n",
        "])"
      ]
    },
    {
      "cell_type": "code",
      "execution_count": 74,
      "metadata": {
        "colab": {
          "base_uri": "https://localhost:8080/"
        },
        "id": "ypqky9tc9hE1",
        "outputId": "5db082bb-30e3-4110-bf63-a1ee777ecd46"
      },
      "outputs": [
        {
          "name": "stdout",
          "output_type": "stream",
          "text": [
            "Model: \"sequential_4\"\n",
            "_________________________________________________________________\n",
            " Layer (type)                Output Shape              Param #   \n",
            "=================================================================\n",
            " dropout_8 (Dropout)         (None, 42)                0         \n",
            "                                                                 \n",
            " dense_12 (Dense)            (None, 20)                860       \n",
            "                                                                 \n",
            " dropout_9 (Dropout)         (None, 20)                0         \n",
            "                                                                 \n",
            " dense_13 (Dense)            (None, 10)                210       \n",
            "                                                                 \n",
            " dense_14 (Dense)            (None, 5)                 55        \n",
            "                                                                 \n",
            "=================================================================\n",
            "Total params: 1,125\n",
            "Trainable params: 1,125\n",
            "Non-trainable params: 0\n",
            "_________________________________________________________________\n"
          ]
        }
      ],
      "source": [
        "model.summary()  # tf.keras.utils.plot_model(model, show_shapes=True)"
      ]
    },
    {
      "cell_type": "code",
      "execution_count": 75,
      "metadata": {
        "id": "MbMjOflQ9hE1"
      },
      "outputs": [],
      "source": [
        "# Model checkpoint callback\n",
        "cp_callback = tf.keras.callbacks.ModelCheckpoint(\n",
        "    model_save_path, verbose=1, save_weights_only=False)\n",
        "# Callback for early stopping\n",
        "es_callback = tf.keras.callbacks.EarlyStopping(patience=20, verbose=1)"
      ]
    },
    {
      "cell_type": "code",
      "execution_count": 76,
      "metadata": {
        "id": "c3Dac0M_9hE2"
      },
      "outputs": [],
      "source": [
        "# Model compilation\n",
        "model.compile(\n",
        "    optimizer='adam',\n",
        "    loss='sparse_categorical_crossentropy',\n",
        "    metrics=['accuracy']\n",
        ")"
      ]
    },
    {
      "cell_type": "markdown",
      "metadata": {
        "id": "7XI0j1Iu9hE2"
      },
      "source": [
        "# Model training"
      ]
    },
    {
      "cell_type": "code",
      "execution_count": 77,
      "metadata": {
        "colab": {
          "base_uri": "https://localhost:8080/"
        },
        "id": "WirBl-JE9hE3",
        "outputId": "71b30ca2-8294-4d9d-8aa2-800d90d399de",
        "scrolled": true
      },
      "outputs": [
        {
          "name": "stdout",
          "output_type": "stream",
          "text": [
            "Epoch 1/1000\n",
            " 1/30 [>.............................] - ETA: 9s - loss: 1.7404 - accuracy: 0.1953\n",
            "Epoch 1: saving model to keypoint_classifier.hdf5\n",
            "30/30 [==============================] - 1s 6ms/step - loss: 1.6424 - accuracy: 0.2326 - val_loss: 1.5152 - val_accuracy: 0.3483\n",
            "Epoch 2/1000\n",
            " 1/30 [>.............................] - ETA: 0s - loss: 1.5433 - accuracy: 0.3125\n",
            "Epoch 2: saving model to keypoint_classifier.hdf5\n",
            "30/30 [==============================] - 0s 3ms/step - loss: 1.5049 - accuracy: 0.3390 - val_loss: 1.4168 - val_accuracy: 0.4560\n",
            "Epoch 3/1000\n",
            " 1/30 [>.............................] - ETA: 0s - loss: 1.4293 - accuracy: 0.4219\n",
            "Epoch 3: saving model to keypoint_classifier.hdf5\n",
            "30/30 [==============================] - 0s 3ms/step - loss: 1.4260 - accuracy: 0.4043 - val_loss: 1.3362 - val_accuracy: 0.5181\n",
            "Epoch 4/1000\n",
            " 1/30 [>.............................] - ETA: 0s - loss: 1.3539 - accuracy: 0.4453\n",
            "Epoch 4: saving model to keypoint_classifier.hdf5\n",
            "30/30 [==============================] - 0s 3ms/step - loss: 1.3668 - accuracy: 0.4276 - val_loss: 1.2587 - val_accuracy: 0.5865\n",
            "Epoch 5/1000\n",
            " 1/30 [>.............................] - ETA: 0s - loss: 1.3314 - accuracy: 0.4453\n",
            "Epoch 5: saving model to keypoint_classifier.hdf5\n",
            "30/30 [==============================] - 0s 3ms/step - loss: 1.2930 - accuracy: 0.4714 - val_loss: 1.1871 - val_accuracy: 0.6211\n",
            "Epoch 6/1000\n",
            " 1/30 [>.............................] - ETA: 0s - loss: 1.2916 - accuracy: 0.4219\n",
            "Epoch 6: saving model to keypoint_classifier.hdf5\n",
            "30/30 [==============================] - 0s 3ms/step - loss: 1.2479 - accuracy: 0.4740 - val_loss: 1.1194 - val_accuracy: 0.6596\n",
            "Epoch 7/1000\n",
            " 1/30 [>.............................] - ETA: 0s - loss: 1.1733 - accuracy: 0.5156\n",
            "Epoch 7: saving model to keypoint_classifier.hdf5\n",
            "30/30 [==============================] - 0s 3ms/step - loss: 1.1846 - accuracy: 0.5092 - val_loss: 1.0378 - val_accuracy: 0.6871\n",
            "Epoch 8/1000\n",
            " 1/30 [>.............................] - ETA: 0s - loss: 1.1698 - accuracy: 0.5469\n",
            "Epoch 8: saving model to keypoint_classifier.hdf5\n",
            "30/30 [==============================] - 0s 3ms/step - loss: 1.1525 - accuracy: 0.5089 - val_loss: 0.9656 - val_accuracy: 0.7233\n",
            "Epoch 9/1000\n",
            " 1/30 [>.............................] - ETA: 0s - loss: 1.1103 - accuracy: 0.5000\n",
            "Epoch 9: saving model to keypoint_classifier.hdf5\n",
            "30/30 [==============================] - 0s 3ms/step - loss: 1.0970 - accuracy: 0.5417 - val_loss: 0.9001 - val_accuracy: 0.7602\n",
            "Epoch 10/1000\n",
            " 1/30 [>.............................] - ETA: 0s - loss: 1.0500 - accuracy: 0.5625\n",
            "Epoch 10: saving model to keypoint_classifier.hdf5\n",
            "30/30 [==============================] - 0s 3ms/step - loss: 1.0582 - accuracy: 0.5616 - val_loss: 0.8488 - val_accuracy: 0.7752\n",
            "Epoch 11/1000\n",
            " 1/30 [>.............................] - ETA: 0s - loss: 1.0549 - accuracy: 0.5469\n",
            "Epoch 11: saving model to keypoint_classifier.hdf5\n",
            "30/30 [==============================] - 0s 3ms/step - loss: 1.0330 - accuracy: 0.5603 - val_loss: 0.7981 - val_accuracy: 0.7948\n",
            "Epoch 12/1000\n",
            " 1/30 [>.............................] - ETA: 0s - loss: 0.9951 - accuracy: 0.5703\n",
            "Epoch 12: saving model to keypoint_classifier.hdf5\n",
            "30/30 [==============================] - 0s 3ms/step - loss: 1.0134 - accuracy: 0.5742 - val_loss: 0.7667 - val_accuracy: 0.8153\n",
            "Epoch 13/1000\n",
            " 1/30 [>.............................] - ETA: 0s - loss: 0.9943 - accuracy: 0.5703\n",
            "Epoch 13: saving model to keypoint_classifier.hdf5\n",
            "30/30 [==============================] - 0s 3ms/step - loss: 0.9847 - accuracy: 0.5836 - val_loss: 0.7237 - val_accuracy: 0.8035\n",
            "Epoch 14/1000\n",
            " 1/30 [>.............................] - ETA: 0s - loss: 1.0247 - accuracy: 0.5781\n",
            "Epoch 14: saving model to keypoint_classifier.hdf5\n",
            "30/30 [==============================] - 0s 3ms/step - loss: 0.9507 - accuracy: 0.6036 - val_loss: 0.6839 - val_accuracy: 0.8255\n",
            "Epoch 15/1000\n",
            " 1/30 [>.............................] - ETA: 0s - loss: 0.9243 - accuracy: 0.6250\n",
            "Epoch 15: saving model to keypoint_classifier.hdf5\n",
            "30/30 [==============================] - 0s 3ms/step - loss: 0.9466 - accuracy: 0.6007 - val_loss: 0.6624 - val_accuracy: 0.8349\n",
            "Epoch 16/1000\n",
            " 1/30 [>.............................] - ETA: 0s - loss: 0.8454 - accuracy: 0.6406\n",
            "Epoch 16: saving model to keypoint_classifier.hdf5\n",
            "30/30 [==============================] - 0s 3ms/step - loss: 0.9076 - accuracy: 0.6190 - val_loss: 0.6301 - val_accuracy: 0.8396\n",
            "Epoch 17/1000\n",
            " 1/30 [>.............................] - ETA: 0s - loss: 0.9433 - accuracy: 0.5781\n",
            "Epoch 17: saving model to keypoint_classifier.hdf5\n",
            "30/30 [==============================] - 0s 3ms/step - loss: 0.8988 - accuracy: 0.6214 - val_loss: 0.6068 - val_accuracy: 0.8459\n",
            "Epoch 18/1000\n",
            " 1/30 [>.............................] - ETA: 0s - loss: 0.8079 - accuracy: 0.6719\n",
            "Epoch 18: saving model to keypoint_classifier.hdf5\n",
            "30/30 [==============================] - 0s 3ms/step - loss: 0.8713 - accuracy: 0.6290 - val_loss: 0.5859 - val_accuracy: 0.8451\n",
            "Epoch 19/1000\n",
            " 1/30 [>.............................] - ETA: 0s - loss: 0.9169 - accuracy: 0.5938\n",
            "Epoch 19: saving model to keypoint_classifier.hdf5\n",
            "30/30 [==============================] - 0s 3ms/step - loss: 0.8699 - accuracy: 0.6329 - val_loss: 0.5552 - val_accuracy: 0.8483\n",
            "Epoch 20/1000\n",
            " 1/30 [>.............................] - ETA: 0s - loss: 0.8835 - accuracy: 0.6094\n",
            "Epoch 20: saving model to keypoint_classifier.hdf5\n",
            "30/30 [==============================] - 0s 3ms/step - loss: 0.8672 - accuracy: 0.6405 - val_loss: 0.5453 - val_accuracy: 0.8656\n",
            "Epoch 21/1000\n",
            " 1/30 [>.............................] - ETA: 0s - loss: 0.9508 - accuracy: 0.5703\n",
            "Epoch 21: saving model to keypoint_classifier.hdf5\n",
            "30/30 [==============================] - 0s 3ms/step - loss: 0.8515 - accuracy: 0.6460 - val_loss: 0.5248 - val_accuracy: 0.8852\n",
            "Epoch 22/1000\n",
            " 1/30 [>.............................] - ETA: 0s - loss: 0.9413 - accuracy: 0.6250\n",
            "Epoch 22: saving model to keypoint_classifier.hdf5\n",
            "30/30 [==============================] - 0s 3ms/step - loss: 0.8370 - accuracy: 0.6557 - val_loss: 0.5054 - val_accuracy: 0.9041\n",
            "Epoch 23/1000\n",
            " 1/30 [>.............................] - ETA: 0s - loss: 0.6990 - accuracy: 0.6562\n",
            "Epoch 23: saving model to keypoint_classifier.hdf5\n",
            "30/30 [==============================] - 0s 3ms/step - loss: 0.8177 - accuracy: 0.6618 - val_loss: 0.4928 - val_accuracy: 0.9112\n",
            "Epoch 24/1000\n",
            " 1/30 [>.............................] - ETA: 0s - loss: 0.8253 - accuracy: 0.6016\n",
            "Epoch 24: saving model to keypoint_classifier.hdf5\n",
            "30/30 [==============================] - 0s 3ms/step - loss: 0.8054 - accuracy: 0.6720 - val_loss: 0.4793 - val_accuracy: 0.9033\n",
            "Epoch 25/1000\n",
            " 1/30 [>.............................] - ETA: 0s - loss: 0.8953 - accuracy: 0.5625\n",
            "Epoch 25: saving model to keypoint_classifier.hdf5\n",
            "30/30 [==============================] - 0s 3ms/step - loss: 0.8042 - accuracy: 0.6683 - val_loss: 0.4665 - val_accuracy: 0.9143\n",
            "Epoch 26/1000\n",
            " 1/30 [>.............................] - ETA: 0s - loss: 0.8436 - accuracy: 0.6719\n",
            "Epoch 26: saving model to keypoint_classifier.hdf5\n",
            "30/30 [==============================] - 0s 3ms/step - loss: 0.7809 - accuracy: 0.6875 - val_loss: 0.4515 - val_accuracy: 0.9112\n",
            "Epoch 27/1000\n",
            " 1/30 [>.............................] - ETA: 0s - loss: 0.7562 - accuracy: 0.6797\n",
            "Epoch 27: saving model to keypoint_classifier.hdf5\n",
            "30/30 [==============================] - 0s 4ms/step - loss: 0.7825 - accuracy: 0.6833 - val_loss: 0.4347 - val_accuracy: 0.9182\n",
            "Epoch 28/1000\n",
            "28/30 [===========================>..] - ETA: 0s - loss: 0.7717 - accuracy: 0.6889\n",
            "Epoch 28: saving model to keypoint_classifier.hdf5\n",
            "30/30 [==============================] - 0s 4ms/step - loss: 0.7723 - accuracy: 0.6906 - val_loss: 0.4297 - val_accuracy: 0.9277\n",
            "Epoch 29/1000\n",
            "29/30 [============================>.] - ETA: 0s - loss: 0.7542 - accuracy: 0.6932\n",
            "Epoch 29: saving model to keypoint_classifier.hdf5\n",
            "30/30 [==============================] - 0s 4ms/step - loss: 0.7569 - accuracy: 0.6909 - val_loss: 0.4188 - val_accuracy: 0.9253\n",
            "Epoch 30/1000\n",
            "28/30 [===========================>..] - ETA: 0s - loss: 0.7631 - accuracy: 0.6886\n",
            "Epoch 30: saving model to keypoint_classifier.hdf5\n",
            "30/30 [==============================] - 0s 4ms/step - loss: 0.7619 - accuracy: 0.6898 - val_loss: 0.4115 - val_accuracy: 0.9285\n",
            "Epoch 31/1000\n",
            " 1/30 [>.............................] - ETA: 0s - loss: 0.7469 - accuracy: 0.7188\n",
            "Epoch 31: saving model to keypoint_classifier.hdf5\n",
            "30/30 [==============================] - 0s 3ms/step - loss: 0.7455 - accuracy: 0.7040 - val_loss: 0.4037 - val_accuracy: 0.9269\n",
            "Epoch 32/1000\n",
            " 1/30 [>.............................] - ETA: 0s - loss: 0.7308 - accuracy: 0.7266\n",
            "Epoch 32: saving model to keypoint_classifier.hdf5\n",
            "30/30 [==============================] - 0s 3ms/step - loss: 0.7364 - accuracy: 0.7058 - val_loss: 0.3940 - val_accuracy: 0.9277\n",
            "Epoch 33/1000\n",
            " 1/30 [>.............................] - ETA: 0s - loss: 0.6682 - accuracy: 0.7422\n",
            "Epoch 33: saving model to keypoint_classifier.hdf5\n",
            "30/30 [==============================] - 0s 3ms/step - loss: 0.7263 - accuracy: 0.7160 - val_loss: 0.3890 - val_accuracy: 0.9300\n",
            "Epoch 34/1000\n",
            "30/30 [==============================] - ETA: 0s - loss: 0.7444 - accuracy: 0.6995\n",
            "Epoch 34: saving model to keypoint_classifier.hdf5\n",
            "30/30 [==============================] - 0s 4ms/step - loss: 0.7444 - accuracy: 0.6995 - val_loss: 0.3837 - val_accuracy: 0.9324\n",
            "Epoch 35/1000\n",
            " 1/30 [>.............................] - ETA: 0s - loss: 0.6725 - accuracy: 0.6719\n",
            "Epoch 35: saving model to keypoint_classifier.hdf5\n",
            "30/30 [==============================] - 0s 4ms/step - loss: 0.7376 - accuracy: 0.7001 - val_loss: 0.3780 - val_accuracy: 0.9285\n",
            "Epoch 36/1000\n",
            " 1/30 [>.............................] - ETA: 0s - loss: 0.7193 - accuracy: 0.7266\n",
            "Epoch 36: saving model to keypoint_classifier.hdf5\n",
            "30/30 [==============================] - 0s 3ms/step - loss: 0.7293 - accuracy: 0.7061 - val_loss: 0.3728 - val_accuracy: 0.9363\n",
            "Epoch 37/1000\n",
            " 1/30 [>.............................] - ETA: 0s - loss: 0.6633 - accuracy: 0.7812\n",
            "Epoch 37: saving model to keypoint_classifier.hdf5\n",
            "30/30 [==============================] - 0s 3ms/step - loss: 0.6981 - accuracy: 0.7239 - val_loss: 0.3605 - val_accuracy: 0.9403\n",
            "Epoch 38/1000\n",
            " 1/30 [>.............................] - ETA: 0s - loss: 0.7609 - accuracy: 0.6719\n",
            "Epoch 38: saving model to keypoint_classifier.hdf5\n",
            "30/30 [==============================] - 0s 3ms/step - loss: 0.7179 - accuracy: 0.7074 - val_loss: 0.3601 - val_accuracy: 0.9316\n",
            "Epoch 39/1000\n",
            " 1/30 [>.............................] - ETA: 0s - loss: 0.7957 - accuracy: 0.6797\n",
            "Epoch 39: saving model to keypoint_classifier.hdf5\n",
            "30/30 [==============================] - 0s 3ms/step - loss: 0.7001 - accuracy: 0.7213 - val_loss: 0.3573 - val_accuracy: 0.9395\n",
            "Epoch 40/1000\n",
            " 1/30 [>.............................] - ETA: 0s - loss: 0.7038 - accuracy: 0.7656\n",
            "Epoch 40: saving model to keypoint_classifier.hdf5\n",
            "30/30 [==============================] - 0s 3ms/step - loss: 0.7194 - accuracy: 0.7171 - val_loss: 0.3534 - val_accuracy: 0.9371\n",
            "Epoch 41/1000\n",
            " 1/30 [>.............................] - ETA: 0s - loss: 0.7606 - accuracy: 0.7188\n",
            "Epoch 41: saving model to keypoint_classifier.hdf5\n",
            "30/30 [==============================] - 0s 6ms/step - loss: 0.7000 - accuracy: 0.7216 - val_loss: 0.3419 - val_accuracy: 0.9371\n",
            "Epoch 42/1000\n",
            "28/30 [===========================>..] - ETA: 0s - loss: 0.7065 - accuracy: 0.7190\n",
            "Epoch 42: saving model to keypoint_classifier.hdf5\n",
            "30/30 [==============================] - 0s 4ms/step - loss: 0.6983 - accuracy: 0.7213 - val_loss: 0.3372 - val_accuracy: 0.9410\n",
            "Epoch 43/1000\n",
            "30/30 [==============================] - ETA: 0s - loss: 0.7030 - accuracy: 0.7163\n",
            "Epoch 43: saving model to keypoint_classifier.hdf5\n",
            "30/30 [==============================] - 0s 4ms/step - loss: 0.7030 - accuracy: 0.7163 - val_loss: 0.3350 - val_accuracy: 0.9379\n",
            "Epoch 44/1000\n",
            " 1/30 [>.............................] - ETA: 0s - loss: 0.6414 - accuracy: 0.7188\n",
            "Epoch 44: saving model to keypoint_classifier.hdf5\n",
            "30/30 [==============================] - 0s 3ms/step - loss: 0.6731 - accuracy: 0.7328 - val_loss: 0.3302 - val_accuracy: 0.9410\n",
            "Epoch 45/1000\n",
            " 1/30 [>.............................] - ETA: 0s - loss: 0.5768 - accuracy: 0.7578\n",
            "Epoch 45: saving model to keypoint_classifier.hdf5\n",
            "30/30 [==============================] - 0s 3ms/step - loss: 0.6748 - accuracy: 0.7263 - val_loss: 0.3266 - val_accuracy: 0.9450\n",
            "Epoch 46/1000\n",
            " 1/30 [>.............................] - ETA: 0s - loss: 0.7452 - accuracy: 0.6562\n",
            "Epoch 46: saving model to keypoint_classifier.hdf5\n",
            "30/30 [==============================] - 0s 3ms/step - loss: 0.6753 - accuracy: 0.7310 - val_loss: 0.3172 - val_accuracy: 0.9458\n",
            "Epoch 47/1000\n",
            " 1/30 [>.............................] - ETA: 0s - loss: 0.6742 - accuracy: 0.7812\n",
            "Epoch 47: saving model to keypoint_classifier.hdf5\n",
            "30/30 [==============================] - 0s 3ms/step - loss: 0.6646 - accuracy: 0.7433 - val_loss: 0.3139 - val_accuracy: 0.9458\n",
            "Epoch 48/1000\n",
            "26/30 [=========================>....] - ETA: 0s - loss: 0.6647 - accuracy: 0.7371\n",
            "Epoch 48: saving model to keypoint_classifier.hdf5\n",
            "30/30 [==============================] - 0s 4ms/step - loss: 0.6609 - accuracy: 0.7396 - val_loss: 0.3111 - val_accuracy: 0.9458\n",
            "Epoch 49/1000\n",
            " 1/30 [>.............................] - ETA: 0s - loss: 0.7262 - accuracy: 0.7500\n",
            "Epoch 49: saving model to keypoint_classifier.hdf5\n",
            "30/30 [==============================] - 0s 3ms/step - loss: 0.6827 - accuracy: 0.7299 - val_loss: 0.3154 - val_accuracy: 0.9481\n",
            "Epoch 50/1000\n",
            "28/30 [===========================>..] - ETA: 0s - loss: 0.6749 - accuracy: 0.7338\n",
            "Epoch 50: saving model to keypoint_classifier.hdf5\n",
            "30/30 [==============================] - 0s 4ms/step - loss: 0.6728 - accuracy: 0.7344 - val_loss: 0.3077 - val_accuracy: 0.9473\n",
            "Epoch 51/1000\n",
            " 1/30 [>.............................] - ETA: 0s - loss: 0.6109 - accuracy: 0.7656\n",
            "Epoch 51: saving model to keypoint_classifier.hdf5\n",
            "30/30 [==============================] - 0s 3ms/step - loss: 0.6589 - accuracy: 0.7493 - val_loss: 0.3014 - val_accuracy: 0.9473\n",
            "Epoch 52/1000\n",
            " 1/30 [>.............................] - ETA: 0s - loss: 0.5739 - accuracy: 0.7891\n",
            "Epoch 52: saving model to keypoint_classifier.hdf5\n",
            "30/30 [==============================] - 0s 4ms/step - loss: 0.6598 - accuracy: 0.7410 - val_loss: 0.3059 - val_accuracy: 0.9489\n",
            "Epoch 53/1000\n",
            " 1/30 [>.............................] - ETA: 0s - loss: 0.5547 - accuracy: 0.7891\n",
            "Epoch 53: saving model to keypoint_classifier.hdf5\n",
            "30/30 [==============================] - 0s 4ms/step - loss: 0.6644 - accuracy: 0.7362 - val_loss: 0.2964 - val_accuracy: 0.9513\n",
            "Epoch 54/1000\n",
            "29/30 [============================>.] - ETA: 0s - loss: 0.6591 - accuracy: 0.7468\n",
            "Epoch 54: saving model to keypoint_classifier.hdf5\n",
            "30/30 [==============================] - 0s 4ms/step - loss: 0.6555 - accuracy: 0.7488 - val_loss: 0.2949 - val_accuracy: 0.9528\n",
            "Epoch 55/1000\n",
            " 1/30 [>.............................] - ETA: 0s - loss: 0.6230 - accuracy: 0.7422\n",
            "Epoch 55: saving model to keypoint_classifier.hdf5\n",
            "30/30 [==============================] - 0s 3ms/step - loss: 0.6658 - accuracy: 0.7391 - val_loss: 0.2925 - val_accuracy: 0.9528\n",
            "Epoch 56/1000\n",
            " 1/30 [>.............................] - ETA: 0s - loss: 0.6166 - accuracy: 0.7578\n",
            "Epoch 56: saving model to keypoint_classifier.hdf5\n",
            "30/30 [==============================] - 0s 3ms/step - loss: 0.6468 - accuracy: 0.7449 - val_loss: 0.2938 - val_accuracy: 0.9528\n",
            "Epoch 57/1000\n",
            " 1/30 [>.............................] - ETA: 0s - loss: 0.6296 - accuracy: 0.7500\n",
            "Epoch 57: saving model to keypoint_classifier.hdf5\n",
            "30/30 [==============================] - 0s 3ms/step - loss: 0.6541 - accuracy: 0.7493 - val_loss: 0.2897 - val_accuracy: 0.9473\n",
            "Epoch 58/1000\n",
            " 1/30 [>.............................] - ETA: 0s - loss: 0.5788 - accuracy: 0.7422\n",
            "Epoch 58: saving model to keypoint_classifier.hdf5\n",
            "30/30 [==============================] - 0s 3ms/step - loss: 0.6568 - accuracy: 0.7378 - val_loss: 0.2864 - val_accuracy: 0.9513\n",
            "Epoch 59/1000\n",
            " 1/30 [>.............................] - ETA: 0s - loss: 0.6551 - accuracy: 0.7422\n",
            "Epoch 59: saving model to keypoint_classifier.hdf5\n",
            "30/30 [==============================] - 0s 3ms/step - loss: 0.6454 - accuracy: 0.7449 - val_loss: 0.2891 - val_accuracy: 0.9505\n",
            "Epoch 60/1000\n",
            "30/30 [==============================] - ETA: 0s - loss: 0.6378 - accuracy: 0.7530\n",
            "Epoch 60: saving model to keypoint_classifier.hdf5\n",
            "30/30 [==============================] - 0s 4ms/step - loss: 0.6378 - accuracy: 0.7530 - val_loss: 0.2834 - val_accuracy: 0.9536\n",
            "Epoch 61/1000\n",
            " 1/30 [>.............................] - ETA: 0s - loss: 0.6291 - accuracy: 0.7734\n",
            "Epoch 61: saving model to keypoint_classifier.hdf5\n",
            "30/30 [==============================] - 0s 3ms/step - loss: 0.6311 - accuracy: 0.7530 - val_loss: 0.2781 - val_accuracy: 0.9544\n",
            "Epoch 62/1000\n",
            " 1/30 [>.............................] - ETA: 0s - loss: 0.6128 - accuracy: 0.7656\n",
            "Epoch 62: saving model to keypoint_classifier.hdf5\n",
            "30/30 [==============================] - 0s 3ms/step - loss: 0.6289 - accuracy: 0.7514 - val_loss: 0.2839 - val_accuracy: 0.9505\n",
            "Epoch 63/1000\n",
            " 1/30 [>.............................] - ETA: 0s - loss: 0.7900 - accuracy: 0.6875\n",
            "Epoch 63: saving model to keypoint_classifier.hdf5\n",
            "30/30 [==============================] - 0s 3ms/step - loss: 0.6305 - accuracy: 0.7569 - val_loss: 0.2781 - val_accuracy: 0.9544\n",
            "Epoch 64/1000\n",
            " 1/30 [>.............................] - ETA: 0s - loss: 0.6741 - accuracy: 0.7578\n",
            "Epoch 64: saving model to keypoint_classifier.hdf5\n",
            "30/30 [==============================] - 0s 3ms/step - loss: 0.6081 - accuracy: 0.7585 - val_loss: 0.2687 - val_accuracy: 0.9528\n",
            "Epoch 65/1000\n",
            " 1/30 [>.............................] - ETA: 0s - loss: 0.7310 - accuracy: 0.7188\n",
            "Epoch 65: saving model to keypoint_classifier.hdf5\n",
            "30/30 [==============================] - 0s 3ms/step - loss: 0.6303 - accuracy: 0.7614 - val_loss: 0.2694 - val_accuracy: 0.9536\n",
            "Epoch 66/1000\n",
            " 1/30 [>.............................] - ETA: 0s - loss: 0.7273 - accuracy: 0.6875\n",
            "Epoch 66: saving model to keypoint_classifier.hdf5\n",
            "30/30 [==============================] - 0s 3ms/step - loss: 0.6320 - accuracy: 0.7528 - val_loss: 0.2707 - val_accuracy: 0.9544\n",
            "Epoch 67/1000\n",
            " 1/30 [>.............................] - ETA: 0s - loss: 0.5744 - accuracy: 0.7578\n",
            "Epoch 67: saving model to keypoint_classifier.hdf5\n",
            "30/30 [==============================] - 0s 3ms/step - loss: 0.6207 - accuracy: 0.7596 - val_loss: 0.2781 - val_accuracy: 0.9520\n",
            "Epoch 68/1000\n",
            " 1/30 [>.............................] - ETA: 0s - loss: 0.6800 - accuracy: 0.7188\n",
            "Epoch 68: saving model to keypoint_classifier.hdf5\n",
            "30/30 [==============================] - 0s 3ms/step - loss: 0.6056 - accuracy: 0.7674 - val_loss: 0.2674 - val_accuracy: 0.9520\n",
            "Epoch 69/1000\n",
            "30/30 [==============================] - ETA: 0s - loss: 0.6217 - accuracy: 0.7588\n",
            "Epoch 69: saving model to keypoint_classifier.hdf5\n",
            "30/30 [==============================] - 0s 4ms/step - loss: 0.6217 - accuracy: 0.7588 - val_loss: 0.2667 - val_accuracy: 0.9513\n",
            "Epoch 70/1000\n",
            "28/30 [===========================>..] - ETA: 0s - loss: 0.6232 - accuracy: 0.7609\n",
            "Epoch 70: saving model to keypoint_classifier.hdf5\n",
            "30/30 [==============================] - 0s 4ms/step - loss: 0.6146 - accuracy: 0.7648 - val_loss: 0.2656 - val_accuracy: 0.9520\n",
            "Epoch 71/1000\n",
            " 1/30 [>.............................] - ETA: 0s - loss: 0.6140 - accuracy: 0.7422\n",
            "Epoch 71: saving model to keypoint_classifier.hdf5\n",
            "30/30 [==============================] - 0s 3ms/step - loss: 0.6175 - accuracy: 0.7535 - val_loss: 0.2651 - val_accuracy: 0.9536\n",
            "Epoch 72/1000\n",
            " 1/30 [>.............................] - ETA: 0s - loss: 0.5892 - accuracy: 0.8125\n",
            "Epoch 72: saving model to keypoint_classifier.hdf5\n",
            "30/30 [==============================] - 0s 4ms/step - loss: 0.6378 - accuracy: 0.7564 - val_loss: 0.2635 - val_accuracy: 0.9528\n",
            "Epoch 73/1000\n",
            "29/30 [============================>.] - ETA: 0s - loss: 0.6122 - accuracy: 0.7616\n",
            "Epoch 73: saving model to keypoint_classifier.hdf5\n",
            "30/30 [==============================] - 0s 4ms/step - loss: 0.6111 - accuracy: 0.7619 - val_loss: 0.2612 - val_accuracy: 0.9552\n",
            "Epoch 74/1000\n",
            " 1/30 [>.............................] - ETA: 0s - loss: 0.7795 - accuracy: 0.6719\n",
            "Epoch 74: saving model to keypoint_classifier.hdf5\n",
            "30/30 [==============================] - 0s 3ms/step - loss: 0.6154 - accuracy: 0.7648 - val_loss: 0.2560 - val_accuracy: 0.9552\n",
            "Epoch 75/1000\n",
            " 1/30 [>.............................] - ETA: 0s - loss: 0.5528 - accuracy: 0.8125\n",
            "Epoch 75: saving model to keypoint_classifier.hdf5\n",
            "30/30 [==============================] - 0s 3ms/step - loss: 0.6135 - accuracy: 0.7698 - val_loss: 0.2564 - val_accuracy: 0.9568\n",
            "Epoch 76/1000\n",
            " 1/30 [>.............................] - ETA: 0s - loss: 0.6128 - accuracy: 0.7500\n",
            "Epoch 76: saving model to keypoint_classifier.hdf5\n",
            "30/30 [==============================] - 0s 3ms/step - loss: 0.6000 - accuracy: 0.7648 - val_loss: 0.2523 - val_accuracy: 0.9568\n",
            "Epoch 77/1000\n",
            " 1/30 [>.............................] - ETA: 0s - loss: 0.6874 - accuracy: 0.7500\n",
            "Epoch 77: saving model to keypoint_classifier.hdf5\n",
            "30/30 [==============================] - 0s 3ms/step - loss: 0.6063 - accuracy: 0.7695 - val_loss: 0.2553 - val_accuracy: 0.9544\n",
            "Epoch 78/1000\n",
            " 1/30 [>.............................] - ETA: 0s - loss: 0.6741 - accuracy: 0.7188\n",
            "Epoch 78: saving model to keypoint_classifier.hdf5\n",
            "30/30 [==============================] - 0s 3ms/step - loss: 0.6121 - accuracy: 0.7664 - val_loss: 0.2551 - val_accuracy: 0.9536\n",
            "Epoch 79/1000\n",
            " 1/30 [>.............................] - ETA: 0s - loss: 0.5656 - accuracy: 0.7266\n",
            "Epoch 79: saving model to keypoint_classifier.hdf5\n",
            "30/30 [==============================] - 0s 3ms/step - loss: 0.6304 - accuracy: 0.7520 - val_loss: 0.2628 - val_accuracy: 0.9505\n",
            "Epoch 80/1000\n",
            "28/30 [===========================>..] - ETA: 0s - loss: 0.6076 - accuracy: 0.7701\n",
            "Epoch 80: saving model to keypoint_classifier.hdf5\n",
            "30/30 [==============================] - 0s 4ms/step - loss: 0.6062 - accuracy: 0.7703 - val_loss: 0.2526 - val_accuracy: 0.9591\n",
            "Epoch 81/1000\n",
            " 1/30 [>.............................] - ETA: 0s - loss: 0.7554 - accuracy: 0.7422\n",
            "Epoch 81: saving model to keypoint_classifier.hdf5\n",
            "30/30 [==============================] - 0s 3ms/step - loss: 0.6013 - accuracy: 0.7708 - val_loss: 0.2545 - val_accuracy: 0.9536\n",
            "Epoch 82/1000\n",
            " 1/30 [>.............................] - ETA: 0s - loss: 0.6883 - accuracy: 0.7344\n",
            "Epoch 82: saving model to keypoint_classifier.hdf5\n",
            "30/30 [==============================] - 0s 3ms/step - loss: 0.6186 - accuracy: 0.7593 - val_loss: 0.2556 - val_accuracy: 0.9568\n",
            "Epoch 83/1000\n",
            " 1/30 [>.............................] - ETA: 0s - loss: 0.6694 - accuracy: 0.7109\n",
            "Epoch 83: saving model to keypoint_classifier.hdf5\n",
            "30/30 [==============================] - 0s 3ms/step - loss: 0.5962 - accuracy: 0.7795 - val_loss: 0.2574 - val_accuracy: 0.9544\n",
            "Epoch 84/1000\n",
            " 1/30 [>.............................] - ETA: 0s - loss: 0.5688 - accuracy: 0.8125\n",
            "Epoch 84: saving model to keypoint_classifier.hdf5\n",
            "30/30 [==============================] - 0s 3ms/step - loss: 0.5801 - accuracy: 0.7774 - val_loss: 0.2557 - val_accuracy: 0.9505\n",
            "Epoch 85/1000\n",
            " 1/30 [>.............................] - ETA: 0s - loss: 0.6359 - accuracy: 0.7500\n",
            "Epoch 85: saving model to keypoint_classifier.hdf5\n",
            "30/30 [==============================] - 0s 3ms/step - loss: 0.6128 - accuracy: 0.7656 - val_loss: 0.2494 - val_accuracy: 0.9560\n",
            "Epoch 86/1000\n",
            "30/30 [==============================] - ETA: 0s - loss: 0.5886 - accuracy: 0.7732\n",
            "Epoch 86: saving model to keypoint_classifier.hdf5\n",
            "30/30 [==============================] - 0s 4ms/step - loss: 0.5886 - accuracy: 0.7732 - val_loss: 0.2474 - val_accuracy: 0.9560\n",
            "Epoch 87/1000\n",
            " 1/30 [>.............................] - ETA: 0s - loss: 0.6244 - accuracy: 0.7422\n",
            "Epoch 87: saving model to keypoint_classifier.hdf5\n",
            "30/30 [==============================] - 0s 3ms/step - loss: 0.5987 - accuracy: 0.7672 - val_loss: 0.2482 - val_accuracy: 0.9528\n",
            "Epoch 88/1000\n",
            " 1/30 [>.............................] - ETA: 0s - loss: 0.5539 - accuracy: 0.7734\n",
            "Epoch 88: saving model to keypoint_classifier.hdf5\n",
            "30/30 [==============================] - 0s 3ms/step - loss: 0.5985 - accuracy: 0.7680 - val_loss: 0.2448 - val_accuracy: 0.9536\n",
            "Epoch 89/1000\n",
            " 1/30 [>.............................] - ETA: 0s - loss: 0.5872 - accuracy: 0.7812\n",
            "Epoch 89: saving model to keypoint_classifier.hdf5\n",
            "30/30 [==============================] - 0s 3ms/step - loss: 0.5981 - accuracy: 0.7784 - val_loss: 0.2448 - val_accuracy: 0.9536\n",
            "Epoch 90/1000\n",
            " 1/30 [>.............................] - ETA: 0s - loss: 0.5435 - accuracy: 0.7656\n",
            "Epoch 90: saving model to keypoint_classifier.hdf5\n",
            "30/30 [==============================] - 0s 3ms/step - loss: 0.5954 - accuracy: 0.7727 - val_loss: 0.2439 - val_accuracy: 0.9568\n",
            "Epoch 91/1000\n",
            " 1/30 [>.............................] - ETA: 0s - loss: 0.5733 - accuracy: 0.7812\n",
            "Epoch 91: saving model to keypoint_classifier.hdf5\n",
            "30/30 [==============================] - 0s 3ms/step - loss: 0.6051 - accuracy: 0.7638 - val_loss: 0.2481 - val_accuracy: 0.9552\n",
            "Epoch 92/1000\n",
            "27/30 [==========================>...] - ETA: 0s - loss: 0.5789 - accuracy: 0.7815\n",
            "Epoch 92: saving model to keypoint_classifier.hdf5\n",
            "30/30 [==============================] - 0s 4ms/step - loss: 0.5852 - accuracy: 0.7805 - val_loss: 0.2455 - val_accuracy: 0.9544\n",
            "Epoch 93/1000\n",
            "30/30 [==============================] - ETA: 0s - loss: 0.5818 - accuracy: 0.7834\n",
            "Epoch 93: saving model to keypoint_classifier.hdf5\n",
            "30/30 [==============================] - 0s 4ms/step - loss: 0.5818 - accuracy: 0.7834 - val_loss: 0.2457 - val_accuracy: 0.9552\n",
            "Epoch 94/1000\n",
            " 1/30 [>.............................] - ETA: 0s - loss: 0.5146 - accuracy: 0.7812\n",
            "Epoch 94: saving model to keypoint_classifier.hdf5\n",
            "30/30 [==============================] - 0s 3ms/step - loss: 0.5847 - accuracy: 0.7819 - val_loss: 0.2434 - val_accuracy: 0.9552\n",
            "Epoch 95/1000\n",
            " 1/30 [>.............................] - ETA: 0s - loss: 0.5504 - accuracy: 0.7812\n",
            "Epoch 95: saving model to keypoint_classifier.hdf5\n",
            "30/30 [==============================] - 0s 3ms/step - loss: 0.5940 - accuracy: 0.7727 - val_loss: 0.2409 - val_accuracy: 0.9560\n",
            "Epoch 96/1000\n",
            "14/30 [=============>................] - ETA: 0s - loss: 0.5962 - accuracy: 0.7628\n",
            "Epoch 96: saving model to keypoint_classifier.hdf5\n",
            "30/30 [==============================] - 0s 5ms/step - loss: 0.5858 - accuracy: 0.7766 - val_loss: 0.2459 - val_accuracy: 0.9489\n",
            "Epoch 97/1000\n",
            " 1/30 [>.............................] - ETA: 0s - loss: 0.6243 - accuracy: 0.7422\n",
            "Epoch 97: saving model to keypoint_classifier.hdf5\n",
            "30/30 [==============================] - 0s 3ms/step - loss: 0.5613 - accuracy: 0.7842 - val_loss: 0.2389 - val_accuracy: 0.9505\n",
            "Epoch 98/1000\n",
            " 1/30 [>.............................] - ETA: 0s - loss: 0.6885 - accuracy: 0.7734\n",
            "Epoch 98: saving model to keypoint_classifier.hdf5\n",
            "30/30 [==============================] - 0s 3ms/step - loss: 0.5882 - accuracy: 0.7703 - val_loss: 0.2408 - val_accuracy: 0.9489\n",
            "Epoch 99/1000\n",
            " 1/30 [>.............................] - ETA: 0s - loss: 0.4602 - accuracy: 0.8203\n",
            "Epoch 99: saving model to keypoint_classifier.hdf5\n",
            "30/30 [==============================] - 0s 3ms/step - loss: 0.5798 - accuracy: 0.7769 - val_loss: 0.2367 - val_accuracy: 0.9568\n",
            "Epoch 100/1000\n",
            " 1/30 [>.............................] - ETA: 0s - loss: 0.6415 - accuracy: 0.7188\n",
            "Epoch 100: saving model to keypoint_classifier.hdf5\n",
            "30/30 [==============================] - 0s 3ms/step - loss: 0.5877 - accuracy: 0.7719 - val_loss: 0.2346 - val_accuracy: 0.9591\n",
            "Epoch 101/1000\n",
            " 1/30 [>.............................] - ETA: 0s - loss: 0.6558 - accuracy: 0.7891\n",
            "Epoch 101: saving model to keypoint_classifier.hdf5\n",
            "30/30 [==============================] - 0s 3ms/step - loss: 0.5617 - accuracy: 0.7884 - val_loss: 0.2345 - val_accuracy: 0.9552\n",
            "Epoch 102/1000\n",
            " 1/30 [>.............................] - ETA: 0s - loss: 0.6508 - accuracy: 0.7344\n",
            "Epoch 102: saving model to keypoint_classifier.hdf5\n",
            "30/30 [==============================] - 0s 3ms/step - loss: 0.5980 - accuracy: 0.7669 - val_loss: 0.2455 - val_accuracy: 0.9473\n",
            "Epoch 103/1000\n",
            " 1/30 [>.............................] - ETA: 0s - loss: 0.6678 - accuracy: 0.6953\n",
            "Epoch 103: saving model to keypoint_classifier.hdf5\n",
            "30/30 [==============================] - 0s 3ms/step - loss: 0.5747 - accuracy: 0.7758 - val_loss: 0.2335 - val_accuracy: 0.9591\n",
            "Epoch 104/1000\n",
            " 1/30 [>.............................] - ETA: 0s - loss: 0.4834 - accuracy: 0.8359\n",
            "Epoch 104: saving model to keypoint_classifier.hdf5\n",
            "30/30 [==============================] - 0s 3ms/step - loss: 0.5807 - accuracy: 0.7798 - val_loss: 0.2380 - val_accuracy: 0.9513\n",
            "Epoch 105/1000\n",
            " 1/30 [>.............................] - ETA: 0s - loss: 0.6893 - accuracy: 0.6953\n",
            "Epoch 105: saving model to keypoint_classifier.hdf5\n",
            "30/30 [==============================] - 0s 3ms/step - loss: 0.5709 - accuracy: 0.7832 - val_loss: 0.2345 - val_accuracy: 0.9560\n",
            "Epoch 106/1000\n",
            " 1/30 [>.............................] - ETA: 0s - loss: 0.5674 - accuracy: 0.7656\n",
            "Epoch 106: saving model to keypoint_classifier.hdf5\n",
            "30/30 [==============================] - 0s 3ms/step - loss: 0.5897 - accuracy: 0.7745 - val_loss: 0.2369 - val_accuracy: 0.9513\n",
            "Epoch 107/1000\n",
            "28/30 [===========================>..] - ETA: 0s - loss: 0.5593 - accuracy: 0.7899\n",
            "Epoch 107: saving model to keypoint_classifier.hdf5\n",
            "30/30 [==============================] - 0s 4ms/step - loss: 0.5668 - accuracy: 0.7868 - val_loss: 0.2398 - val_accuracy: 0.9458\n",
            "Epoch 108/1000\n",
            " 1/30 [>.............................] - ETA: 0s - loss: 0.5319 - accuracy: 0.7812\n",
            "Epoch 108: saving model to keypoint_classifier.hdf5\n",
            "30/30 [==============================] - 0s 3ms/step - loss: 0.5824 - accuracy: 0.7845 - val_loss: 0.2369 - val_accuracy: 0.9528\n",
            "Epoch 109/1000\n",
            " 1/30 [>.............................] - ETA: 0s - loss: 0.5445 - accuracy: 0.7812\n",
            "Epoch 109: saving model to keypoint_classifier.hdf5\n",
            "30/30 [==============================] - 0s 3ms/step - loss: 0.5922 - accuracy: 0.7714 - val_loss: 0.2416 - val_accuracy: 0.9505\n",
            "Epoch 110/1000\n",
            " 1/30 [>.............................] - ETA: 0s - loss: 0.6653 - accuracy: 0.7734\n",
            "Epoch 110: saving model to keypoint_classifier.hdf5\n",
            "30/30 [==============================] - 0s 3ms/step - loss: 0.5705 - accuracy: 0.7816 - val_loss: 0.2383 - val_accuracy: 0.9536\n",
            "Epoch 111/1000\n",
            " 1/30 [>.............................] - ETA: 0s - loss: 0.6074 - accuracy: 0.7891\n",
            "Epoch 111: saving model to keypoint_classifier.hdf5\n",
            "30/30 [==============================] - 0s 3ms/step - loss: 0.5809 - accuracy: 0.7803 - val_loss: 0.2348 - val_accuracy: 0.9536\n",
            "Epoch 112/1000\n",
            " 1/30 [>.............................] - ETA: 0s - loss: 0.6256 - accuracy: 0.7500\n",
            "Epoch 112: saving model to keypoint_classifier.hdf5\n",
            "30/30 [==============================] - 0s 3ms/step - loss: 0.5728 - accuracy: 0.7792 - val_loss: 0.2423 - val_accuracy: 0.9552\n",
            "Epoch 113/1000\n",
            "15/30 [==============>...............] - ETA: 0s - loss: 0.5892 - accuracy: 0.7745\n",
            "Epoch 113: saving model to keypoint_classifier.hdf5\n",
            "30/30 [==============================] - 0s 5ms/step - loss: 0.5796 - accuracy: 0.7779 - val_loss: 0.2282 - val_accuracy: 0.9560\n",
            "Epoch 114/1000\n",
            " 1/30 [>.............................] - ETA: 0s - loss: 0.5010 - accuracy: 0.7891\n",
            "Epoch 114: saving model to keypoint_classifier.hdf5\n",
            "30/30 [==============================] - 0s 4ms/step - loss: 0.5738 - accuracy: 0.7845 - val_loss: 0.2315 - val_accuracy: 0.9505\n",
            "Epoch 115/1000\n",
            " 1/30 [>.............................] - ETA: 0s - loss: 0.7124 - accuracy: 0.7422\n",
            "Epoch 115: saving model to keypoint_classifier.hdf5\n",
            "30/30 [==============================] - 0s 3ms/step - loss: 0.5889 - accuracy: 0.7714 - val_loss: 0.2330 - val_accuracy: 0.9599\n",
            "Epoch 116/1000\n",
            " 1/30 [>.............................] - ETA: 0s - loss: 0.5443 - accuracy: 0.8047\n",
            "Epoch 116: saving model to keypoint_classifier.hdf5\n",
            "30/30 [==============================] - 0s 3ms/step - loss: 0.5870 - accuracy: 0.7766 - val_loss: 0.2366 - val_accuracy: 0.9520\n",
            "Epoch 117/1000\n",
            " 1/30 [>.............................] - ETA: 0s - loss: 0.6100 - accuracy: 0.7344\n",
            "Epoch 117: saving model to keypoint_classifier.hdf5\n",
            "30/30 [==============================] - 0s 3ms/step - loss: 0.5794 - accuracy: 0.7824 - val_loss: 0.2345 - val_accuracy: 0.9560\n",
            "Epoch 118/1000\n",
            " 1/30 [>.............................] - ETA: 0s - loss: 0.5694 - accuracy: 0.7891\n",
            "Epoch 118: saving model to keypoint_classifier.hdf5\n",
            "30/30 [==============================] - 0s 3ms/step - loss: 0.5928 - accuracy: 0.7766 - val_loss: 0.2321 - val_accuracy: 0.9544\n",
            "Epoch 119/1000\n",
            " 1/30 [>.............................] - ETA: 0s - loss: 0.5787 - accuracy: 0.7656\n",
            "Epoch 119: saving model to keypoint_classifier.hdf5\n",
            "30/30 [==============================] - 0s 3ms/step - loss: 0.5679 - accuracy: 0.7834 - val_loss: 0.2298 - val_accuracy: 0.9599\n",
            "Epoch 120/1000\n",
            " 1/30 [>.............................] - ETA: 0s - loss: 0.5914 - accuracy: 0.7500\n",
            "Epoch 120: saving model to keypoint_classifier.hdf5\n",
            "30/30 [==============================] - 0s 3ms/step - loss: 0.5630 - accuracy: 0.7798 - val_loss: 0.2296 - val_accuracy: 0.9560\n",
            "Epoch 121/1000\n",
            "30/30 [==============================] - ETA: 0s - loss: 0.5475 - accuracy: 0.7926\n",
            "Epoch 121: saving model to keypoint_classifier.hdf5\n",
            "30/30 [==============================] - 0s 4ms/step - loss: 0.5475 - accuracy: 0.7926 - val_loss: 0.2287 - val_accuracy: 0.9568\n",
            "Epoch 122/1000\n",
            " 1/30 [>.............................] - ETA: 0s - loss: 0.5176 - accuracy: 0.7969\n",
            "Epoch 122: saving model to keypoint_classifier.hdf5\n",
            "30/30 [==============================] - 0s 3ms/step - loss: 0.5814 - accuracy: 0.7798 - val_loss: 0.2328 - val_accuracy: 0.9513\n",
            "Epoch 123/1000\n",
            " 1/30 [>.............................] - ETA: 0s - loss: 0.5331 - accuracy: 0.8125\n",
            "Epoch 123: saving model to keypoint_classifier.hdf5\n",
            "30/30 [==============================] - 0s 3ms/step - loss: 0.5870 - accuracy: 0.7782 - val_loss: 0.2385 - val_accuracy: 0.9465\n",
            "Epoch 124/1000\n",
            " 1/30 [>.............................] - ETA: 0s - loss: 0.5645 - accuracy: 0.7656\n",
            "Epoch 124: saving model to keypoint_classifier.hdf5\n",
            "30/30 [==============================] - 0s 3ms/step - loss: 0.5791 - accuracy: 0.7792 - val_loss: 0.2322 - val_accuracy: 0.9513\n",
            "Epoch 125/1000\n",
            " 1/30 [>.............................] - ETA: 0s - loss: 0.5240 - accuracy: 0.7969\n",
            "Epoch 125: saving model to keypoint_classifier.hdf5\n",
            "30/30 [==============================] - 0s 3ms/step - loss: 0.5784 - accuracy: 0.7774 - val_loss: 0.2405 - val_accuracy: 0.9481\n",
            "Epoch 126/1000\n",
            " 1/30 [>.............................] - ETA: 0s - loss: 0.6949 - accuracy: 0.7031\n",
            "Epoch 126: saving model to keypoint_classifier.hdf5\n",
            "30/30 [==============================] - 0s 3ms/step - loss: 0.5727 - accuracy: 0.7774 - val_loss: 0.2410 - val_accuracy: 0.9497\n",
            "Epoch 127/1000\n",
            " 1/30 [>.............................] - ETA: 0s - loss: 0.4842 - accuracy: 0.8125\n",
            "Epoch 127: saving model to keypoint_classifier.hdf5\n",
            "30/30 [==============================] - 0s 3ms/step - loss: 0.6041 - accuracy: 0.7724 - val_loss: 0.2359 - val_accuracy: 0.9528\n",
            "Epoch 128/1000\n",
            "27/30 [==========================>...] - ETA: 0s - loss: 0.5687 - accuracy: 0.7830\n",
            "Epoch 128: saving model to keypoint_classifier.hdf5\n",
            "30/30 [==============================] - 0s 5ms/step - loss: 0.5659 - accuracy: 0.7847 - val_loss: 0.2284 - val_accuracy: 0.9568\n",
            "Epoch 129/1000\n",
            " 1/30 [>.............................] - ETA: 0s - loss: 0.5301 - accuracy: 0.8438\n",
            "Epoch 129: saving model to keypoint_classifier.hdf5\n",
            "30/30 [==============================] - 0s 3ms/step - loss: 0.5643 - accuracy: 0.7866 - val_loss: 0.2312 - val_accuracy: 0.9552\n",
            "Epoch 130/1000\n",
            " 1/30 [>.............................] - ETA: 0s - loss: 0.5496 - accuracy: 0.7734\n",
            "Epoch 130: saving model to keypoint_classifier.hdf5\n",
            "30/30 [==============================] - 0s 3ms/step - loss: 0.5946 - accuracy: 0.7761 - val_loss: 0.2375 - val_accuracy: 0.9497\n",
            "Epoch 131/1000\n",
            " 1/30 [>.............................] - ETA: 0s - loss: 0.5522 - accuracy: 0.7969\n",
            "Epoch 131: saving model to keypoint_classifier.hdf5\n",
            "30/30 [==============================] - 0s 3ms/step - loss: 0.5704 - accuracy: 0.7808 - val_loss: 0.2330 - val_accuracy: 0.9560\n",
            "Epoch 132/1000\n",
            " 1/30 [>.............................] - ETA: 0s - loss: 0.7171 - accuracy: 0.7422\n",
            "Epoch 132: saving model to keypoint_classifier.hdf5\n",
            "30/30 [==============================] - 0s 3ms/step - loss: 0.5644 - accuracy: 0.7816 - val_loss: 0.2299 - val_accuracy: 0.9544\n",
            "Epoch 133/1000\n",
            "23/30 [======================>.......] - ETA: 0s - loss: 0.5682 - accuracy: 0.7812\n",
            "Epoch 133: saving model to keypoint_classifier.hdf5\n",
            "30/30 [==============================] - 0s 4ms/step - loss: 0.5594 - accuracy: 0.7861 - val_loss: 0.2393 - val_accuracy: 0.9403\n",
            "Epoch 133: early stopping\n"
          ]
        },
        {
          "data": {
            "text/plain": [
              "<keras.callbacks.History at 0x142830d90>"
            ]
          },
          "execution_count": 77,
          "metadata": {},
          "output_type": "execute_result"
        }
      ],
      "source": [
        "model.fit(\n",
        "    X_train,\n",
        "    y_train,\n",
        "    epochs=1000,\n",
        "    batch_size=128,\n",
        "    validation_data=(X_test, y_test),\n",
        "    callbacks=[cp_callback, es_callback]\n",
        ")"
      ]
    },
    {
      "cell_type": "code",
      "execution_count": 78,
      "metadata": {
        "colab": {
          "base_uri": "https://localhost:8080/"
        },
        "id": "pxvb2Y299hE3",
        "outputId": "59eb3185-2e37-4b9e-bc9d-ab1b8ac29b7f"
      },
      "outputs": [
        {
          "name": "stdout",
          "output_type": "stream",
          "text": [
            "10/10 [==============================] - 0s 1ms/step - loss: 0.2393 - accuracy: 0.9403\n"
          ]
        }
      ],
      "source": [
        "# Model evaluation\n",
        "val_loss, val_acc = model.evaluate(X_test, y_test, batch_size=128)"
      ]
    },
    {
      "cell_type": "code",
      "execution_count": 79,
      "metadata": {
        "id": "RBkmDeUW9hE4"
      },
      "outputs": [],
      "source": [
        "# Loading the saved model\n",
        "model = tf.keras.models.load_model(model_save_path)"
      ]
    },
    {
      "cell_type": "code",
      "execution_count": 80,
      "metadata": {
        "colab": {
          "base_uri": "https://localhost:8080/"
        },
        "id": "tFz9Tb0I9hE4",
        "outputId": "1c3b3528-54ae-4ee2-ab04-77429211cbef"
      },
      "outputs": [
        {
          "name": "stdout",
          "output_type": "stream",
          "text": [
            "1/1 [==============================] - 0s 55ms/step\n",
            "[1.9193834e-02 9.5850110e-01 2.2305017e-02 1.4516444e-14 4.5404273e-13]\n",
            "1\n"
          ]
        }
      ],
      "source": [
        "# Inference test\n",
        "predict_result = model.predict(np.array([X_test[0]]))\n",
        "print(np.squeeze(predict_result))\n",
        "print(np.argmax(np.squeeze(predict_result)))"
      ]
    },
    {
      "cell_type": "markdown",
      "metadata": {
        "id": "S3U4yNWx9hE4"
      },
      "source": [
        "# Confusion matrix"
      ]
    },
    {
      "cell_type": "code",
      "execution_count": 81,
      "metadata": {
        "colab": {
          "base_uri": "https://localhost:8080/",
          "height": 582
        },
        "id": "AP1V6SCk9hE5",
        "outputId": "08e41a80-7a4a-4619-8125-ecc371368d19"
      },
      "outputs": [
        {
          "name": "stdout",
          "output_type": "stream",
          "text": [
            "40/40 [==============================] - 0s 807us/step\n"
          ]
        },
        {
          "data": {
            "image/png": "[encoded data removed]",
            "text/plain": [
              "<Figure size 700x600 with 2 Axes>"
            ]
          },
          "metadata": {},
          "output_type": "display_data"
        },
        {
          "name": "stdout",
          "output_type": "stream",
          "text": [
            "Classification Report\n",
            "              precision    recall  f1-score   support\n",
            "\n",
            "           0       0.96      0.95      0.96       400\n",
            "           1       1.00      0.86      0.92       366\n",
            "           2       0.89      0.99      0.94       348\n",
            "           3       0.82      0.96      0.88        74\n",
            "           4       0.99      0.99      0.99        84\n",
            "\n",
            "    accuracy                           0.94      1272\n",
            "   macro avg       0.93      0.95      0.94      1272\n",
            "weighted avg       0.95      0.94      0.94      1272\n",
            "\n"
          ]
        }
      ],
      "source": [
        "import pandas as pd\n",
        "import seaborn as sns\n",
        "import matplotlib.pyplot as plt\n",
        "from sklearn.metrics import confusion_matrix, classification_report\n",
        "\n",
        "def print_confusion_matrix(y_true, y_pred, report=True):\n",
        "    labels = sorted(list(set(y_true)))\n",
        "    cmx_data = confusion_matrix(y_true, y_pred, labels=labels)\n",
        "    \n",
        "    df_cmx = pd.DataFrame(cmx_data, index=labels, columns=labels)\n",
        " \n",
        "    fig, ax = plt.subplots(figsize=(7, 6))\n",
        "    sns.heatmap(df_cmx, annot=True, fmt='g' ,square=False)\n",
        "    ax.set_ylim(len(set(y_true)), 0)\n",
        "    plt.show()\n",
        "    \n",
        "    if report:\n",
        "        print('Classification Report')\n",
        "        print(classification_report(y_test, y_pred))\n",
        "\n",
        "Y_pred = model.predict(X_test)\n",
        "y_pred = np.argmax(Y_pred, axis=1)\n",
        "\n",
        "print_confusion_matrix(y_test, y_pred)"
      ]
    },
    {
      "cell_type": "markdown",
      "metadata": {
        "id": "FNP6aqzc9hE5"
      },
      "source": [
        "# Convert to model for Tensorflow-Lite"
      ]
    },
    {
      "cell_type": "code",
      "execution_count": 82,
      "metadata": {
        "id": "ODjnYyld9hE6"
      },
      "outputs": [],
      "source": [
        "# Save as a model dedicated to inference\n",
        "model.save(model_save_path, include_optimizer=False)"
      ]
    },
    {
      "cell_type": "code",
      "execution_count": 83,
      "metadata": {
        "colab": {
          "base_uri": "https://localhost:8080/"
        },
        "id": "zRfuK8Y59hE6",
        "outputId": "a4ca585c-b5d5-4244-8291-8674063209bb"
      },
      "outputs": [
        {
          "name": "stdout",
          "output_type": "stream",
          "text": [
            "INFO:tensorflow:Assets written to: /var/folders/2h/lgrzygf9513_s5fjb23885lm0000gn/T/tmpt0oyr540/assets\n"
          ]
        },
        {
          "name": "stderr",
          "output_type": "stream",
          "text": [
            "INFO:tensorflow:Assets written to: /var/folders/2h/lgrzygf9513_s5fjb23885lm0000gn/T/tmpt0oyr540/assets\n",
            "2022-11-04 16:46:57.503956: W tensorflow/compiler/mlir/lite/python/tf_tfl_flatbuffer_helpers.cc:362] Ignored output_format.\n",
            "2022-11-04 16:46:57.503972: W tensorflow/compiler/mlir/lite/python/tf_tfl_flatbuffer_helpers.cc:365] Ignored drop_control_dependency.\n",
            "2022-11-04 16:46:57.504091: I tensorflow/cc/saved_model/reader.cc:45] Reading SavedModel from: /var/folders/2h/lgrzygf9513_s5fjb23885lm0000gn/T/tmpt0oyr540\n",
            "2022-11-04 16:46:57.505612: I tensorflow/cc/saved_model/reader.cc:89] Reading meta graph with tags { serve }\n",
            "2022-11-04 16:46:57.505624: I tensorflow/cc/saved_model/reader.cc:130] Reading SavedModel debug info (if present) from: /var/folders/2h/lgrzygf9513_s5fjb23885lm0000gn/T/tmpt0oyr540\n",
            "2022-11-04 16:46:57.511172: I tensorflow/cc/saved_model/loader.cc:229] Restoring SavedModel bundle.\n",
            "2022-11-04 16:46:57.558887: I tensorflow/cc/saved_model/loader.cc:213] Running initialization op on SavedModel bundle at path: /var/folders/2h/lgrzygf9513_s5fjb23885lm0000gn/T/tmpt0oyr540\n",
            "2022-11-04 16:46:57.570566: I tensorflow/cc/saved_model/loader.cc:305] SavedModel load for tags { serve }; Status: success: OK. Took 66475 microseconds.\n"
          ]
        },
        {
          "data": {
            "text/plain": [
              "6652"
            ]
          },
          "execution_count": 83,
          "metadata": {},
          "output_type": "execute_result"
        }
      ],
      "source": [
        "# Transform model (quantization)\n",
        "\n",
        "converter = tf.lite.TFLiteConverter.from_keras_model(model)\n",
        "converter.optimizations = [tf.lite.Optimize.DEFAULT]\n",
        "tflite_quantized_model = converter.convert()\n",
        "\n",
        "open(tflite_save_path, 'wb').write(tflite_quantized_model)"
      ]
    },
    {
      "cell_type": "markdown",
      "metadata": {
        "id": "CHBPBXdx9hE6"
      },
      "source": [
        "# Inference test"
      ]
    },
    {
      "cell_type": "code",
      "execution_count": 84,
      "metadata": {
        "id": "mGAzLocO9hE7"
      },
      "outputs": [],
      "source": [
        "interpreter = tf.lite.Interpreter(model_path=tflite_save_path)\n",
        "interpreter.allocate_tensors()"
      ]
    },
    {
      "cell_type": "code",
      "execution_count": 85,
      "metadata": {
        "id": "oQuDK8YS9hE7"
      },
      "outputs": [],
      "source": [
        "# Get I / O tensor\n",
        "input_details = interpreter.get_input_details()\n",
        "output_details = interpreter.get_output_details()"
      ]
    },
    {
      "cell_type": "code",
      "execution_count": 86,
      "metadata": {
        "id": "2_ixAf_l9hE7"
      },
      "outputs": [],
      "source": [
        "interpreter.set_tensor(input_details[0]['index'], np.array([X_test[0]]))"
      ]
    },
    {
      "cell_type": "code",
      "execution_count": 87,
      "metadata": {
        "colab": {
          "base_uri": "https://localhost:8080/"
        },
        "id": "s4FoAnuc9hE7",
        "outputId": "91f18257-8d8b-4ef3-c558-e9b5f94fabbf",
        "scrolled": true
      },
      "outputs": [
        {
          "name": "stdout",
          "output_type": "stream",
          "text": [
            "CPU times: user 34 µs, sys: 6 µs, total: 40 µs\n",
            "Wall time: 47.2 µs\n"
          ]
        }
      ],
      "source": [
        "%%time\n",
        "# Inference implementation\n",
        "interpreter.invoke()\n",
        "tflite_results = interpreter.get_tensor(output_details[0]['index'])"
      ]
    },
    {
      "cell_type": "code",
      "execution_count": 88,
      "metadata": {
        "colab": {
          "base_uri": "https://localhost:8080/"
        },
        "id": "vONjp19J9hE8",
        "outputId": "77205e24-fd00-42c4-f7b6-e06e527c2cba"
      },
      "outputs": [
        {
          "name": "stdout",
          "output_type": "stream",
          "text": [
            "[1.9193808e-02 9.5850122e-01 2.2304999e-02 1.4516446e-14 4.5404278e-13]\n",
            "1\n"
          ]
        }
      ],
      "source": [
        "print(np.squeeze(tflite_results))\n",
        "print(np.argmax(np.squeeze(tflite_results)))"
      ]
    }
  ],
  "metadata": {
    "accelerator": "GPU",
    "colab": {
      "collapsed_sections": [],
      "name": "keypoint_classification_EN.ipynb",
      "provenance": [],
      "toc_visible": true
    },
    "kernelspec": {
      "display_name": "Python 3.9.7 ('env': venv)",
      "language": "python",
      "name": "python3"
    },
    "language_info": {
      "codemirror_mode": {
        "name": "ipython",
        "version": 3
      },
      "file_extension": ".py",
      "mimetype": "text/x-python",
      "name": "python",
      "nbconvert_exporter": "python",
      "pygments_lexer": "ipython3",
      "version": "3.9.7"
    },
    "vscode": {
      "interpreter": {
        "hash": "3fcf7a734fde31419a05d711773af1d3262016139740066a12b04484173f27fe"
      }
    }
  },
  "nbformat": 4,
  "nbformat_minor": 0
}
